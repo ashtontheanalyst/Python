{
 "cells": [
  {
   "cell_type": "markdown",
   "id": "f2aed91b",
   "metadata": {},
   "source": [
    "# Accessing Data from Loaded in Files"
   ]
  },
  {
   "cell_type": "code",
   "execution_count": 47,
   "id": "8a8e492c",
   "metadata": {},
   "outputs": [],
   "source": [
    "import pandas as pd"
   ]
  },
  {
   "cell_type": "code",
   "execution_count": 48,
   "id": "fe5e0e34",
   "metadata": {},
   "outputs": [],
   "source": [
    "# Import data sets or local ones and input to data frames\n",
    "coffee = pd.read_csv('https://raw.githubusercontent.com/KeithGalli/complete-pandas-tutorial/refs/heads/master/warmup-data/coffee.csv')\n",
    "results = pd.read_parquet('./data/results.parquet')\n",
    "bios = pd.read_csv('https://raw.githubusercontent.com/KeithGalli/complete-pandas-tutorial/refs/heads/master/data/bios.csv')"
   ]
  },
  {
   "cell_type": "code",
   "execution_count": 49,
   "id": "9afb7635",
   "metadata": {},
   "outputs": [
    {
     "data": {
      "text/html": [
       "<div>\n",
       "<style scoped>\n",
       "    .dataframe tbody tr th:only-of-type {\n",
       "        vertical-align: middle;\n",
       "    }\n",
       "\n",
       "    .dataframe tbody tr th {\n",
       "        vertical-align: top;\n",
       "    }\n",
       "\n",
       "    .dataframe thead th {\n",
       "        text-align: right;\n",
       "    }\n",
       "</style>\n",
       "<table border=\"1\" class=\"dataframe\">\n",
       "  <thead>\n",
       "    <tr style=\"text-align: right;\">\n",
       "      <th></th>\n",
       "      <th>Coffee Type</th>\n",
       "      <th>Units Sold</th>\n",
       "    </tr>\n",
       "  </thead>\n",
       "  <tbody>\n",
       "    <tr>\n",
       "      <th>3</th>\n",
       "      <td>Latte</td>\n",
       "      <td>20</td>\n",
       "    </tr>\n",
       "    <tr>\n",
       "      <th>2</th>\n",
       "      <td>Espresso</td>\n",
       "      <td>30</td>\n",
       "    </tr>\n",
       "    <tr>\n",
       "      <th>1</th>\n",
       "      <td>Latte</td>\n",
       "      <td>15</td>\n",
       "    </tr>\n",
       "    <tr>\n",
       "      <th>0</th>\n",
       "      <td>Espresso</td>\n",
       "      <td>25</td>\n",
       "    </tr>\n",
       "  </tbody>\n",
       "</table>\n",
       "</div>"
      ],
      "text/plain": [
       "  Coffee Type  Units Sold\n",
       "3       Latte          20\n",
       "2    Espresso          30\n",
       "1       Latte          15\n",
       "0    Espresso          25"
      ]
     },
     "execution_count": 49,
     "metadata": {},
     "output_type": "execute_result"
    }
   ],
   "source": [
    "# Accessing data, similar to a normal python list\n",
    "\n",
    "# Tail works the same as head but it gets the last 5 by default\n",
    "coffee.tail()\n",
    "\n",
    "# Access a random number of rows, not in order\n",
    "coffee.sample(7)\n",
    "\n",
    "# loc allows us to filter by rows and columns in this format: df.loc[rows, cols]\n",
    "coffee.loc[0]                               # Gives us the first rows worth of data\n",
    "coffee.loc[[0,1,2]]                         # First three rows\n",
    "coffee.loc[0:2]                             # Same but in slice format\n",
    "coffee.loc[::-1]                            # Backwards\n",
    "coffee.loc[0::2]                            # Evens\n",
    "coffee.loc[3:6, [\"Day\", \"Units Sold\"]]      # Rows 3 through 6 and only those two columns\n",
    "\n",
    "# iloc functions the same as loc but the columns are indexes not their labels\n",
    "coffee.iloc[::, [0]]                        # All rows but just the first indexed column\n",
    "coffee.iloc[3::-1, [1,2]]                   # From row 3 to 0, only those two columns "
   ]
  },
  {
   "cell_type": "code",
   "execution_count": 46,
   "id": "7301955d",
   "metadata": {},
   "outputs": [
    {
     "data": {
      "text/plain": [
       "Day\n",
       "Wednesday    35\n",
       "Wednesday    25\n",
       "Thursday     40\n",
       "Thursday     30\n",
       "Friday       45\n",
       "Friday       35\n",
       "Saturday     45\n",
       "Saturday     35\n",
       "Sunday       45\n",
       "Sunday       35\n",
       "Name: Units Sold, dtype: int64"
      ]
     },
     "execution_count": 46,
     "metadata": {},
     "output_type": "execute_result"
    }
   ],
   "source": [
    "# Change the row index to the day of the week, from ints to a string\n",
    "coffee.index = coffee[\"Day\"]\n",
    "\n",
    "coffee.loc[\"Monday\":\"Wednesday\"]        # The changed index allows us to sort days instead of indexes now\n",
    "coffee.loc[\"Wednesday\":, \"Units Sold\"]  # Wed -> onward, number of units sold"
   ]
  },
  {
   "cell_type": "code",
   "execution_count": null,
   "id": "88cf3a47",
   "metadata": {},
   "outputs": [],
   "source": [
    "# "
   ]
  }
 ],
 "metadata": {
  "kernelspec": {
   "display_name": "Python (myenv)",
   "language": "python",
   "name": "myenv"
  },
  "language_info": {
   "codemirror_mode": {
    "name": "ipython",
    "version": 3
   },
   "file_extension": ".py",
   "mimetype": "text/x-python",
   "name": "python",
   "nbconvert_exporter": "python",
   "pygments_lexer": "ipython3",
   "version": "3.13.1"
  }
 },
 "nbformat": 4,
 "nbformat_minor": 5
}
