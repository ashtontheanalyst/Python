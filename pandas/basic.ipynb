{
 "cells": [
  {
   "cell_type": "markdown",
   "id": "5f3f2b49",
   "metadata": {},
   "source": [
    "# Basic Pandas Usage and Tools"
   ]
  },
  {
   "cell_type": "code",
   "execution_count": 1,
   "id": "a3e6ff3b",
   "metadata": {},
   "outputs": [],
   "source": [
    "import pandas as pd"
   ]
  },
  {
   "cell_type": "code",
   "execution_count": 14,
   "id": "d5413687",
   "metadata": {},
   "outputs": [],
   "source": [
    "# Data frames are the main tool of the pandas package\n",
    "# Think of a 'df' as an excel spreadsheet or a table but with A TON of extra functions\n",
    "\n",
    "df = pd.DataFrame([[1,2,3],[4,5,6],[7,8,9]], columns=[\"A\", \"B\", \"C\"], index=[\"x\", \"y\", \"z\"])"
   ]
  },
  {
   "cell_type": "code",
   "execution_count": null,
   "id": "641b907f",
   "metadata": {},
   "outputs": [],
   "source": [
    "# Shows us the data frame\n",
    "df\n",
    "\n",
    "# Show us the column names in list print format\n",
    "df.columns\n",
    "# Shows the index (row) names or numbers in the same format as columns\n",
    "df.index\n",
    "\n",
    "# Shows us the first five rows by default\n",
    "# Can specify the amount of rows by putting an int in the ()'s\n",
    "df.head(3)\n",
    "\n",
    "# Shows the (row, col) count\n",
    "df.shape\n",
    "# Gives us some quick info about our df\n",
    "df.info()\n",
    "# Quick summary stats\n",
    "df.describe()\n",
    "\n",
    "# Find a value quickly, or some values from the df\n",
    "df['A'].unique()"
   ]
  },
  {
   "cell_type": "code",
   "execution_count": null,
   "id": "620d7833",
   "metadata": {},
   "outputs": [
    {
     "name": "stdout",
     "output_type": "stream",
     "text": [
      "<class 'pandas.core.frame.DataFrame'>\n",
      "Index: 3 entries, x to z\n",
      "Data columns (total 3 columns):\n",
      " #   Column  Non-Null Count  Dtype\n",
      "---  ------  --------------  -----\n",
      " 0   A       3 non-null      int64\n",
      " 1   B       3 non-null      int64\n",
      " 2   C       3 non-null      int64\n",
      "dtypes: int64(3)\n",
      "memory usage: 204.0+ bytes\n"
     ]
    }
   ],
   "source": [
    "df.info()"
   ]
  }
 ],
 "metadata": {
  "kernelspec": {
   "display_name": "Python 3",
   "language": "python",
   "name": "python3"
  },
  "language_info": {
   "codemirror_mode": {
    "name": "ipython",
    "version": 3
   },
   "file_extension": ".py",
   "mimetype": "text/x-python",
   "name": "python",
   "nbconvert_exporter": "python",
   "pygments_lexer": "ipython3",
   "version": "3.13.1"
  }
 },
 "nbformat": 4,
 "nbformat_minor": 5
}
