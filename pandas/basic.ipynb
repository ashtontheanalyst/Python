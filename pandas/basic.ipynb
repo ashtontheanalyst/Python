{
 "cells": [
  {
   "cell_type": "markdown",
   "id": "5f3f2b49",
   "metadata": {},
   "source": [
    "# Basic Pandas Usage and Tools"
   ]
  },
  {
   "cell_type": "code",
   "execution_count": 6,
   "id": "a3e6ff3b",
   "metadata": {},
   "outputs": [],
   "source": [
    "import pandas as pd\n",
    "import numpy as np"
   ]
  },
  {
   "cell_type": "code",
   "execution_count": 2,
   "id": "d5413687",
   "metadata": {},
   "outputs": [],
   "source": [
    "# Data frames are the main tool of the pandas package\n",
    "# Think of a 'df' as an excel spreadsheet or a table but with A TON of extra functions\n",
    "\n",
    "df = pd.DataFrame([[1,2,3],[4,5,6],[7,8,9]], columns=[\"A\", \"B\", \"C\"], index=[\"x\", \"y\", \"z\"])"
   ]
  },
  {
   "cell_type": "code",
   "execution_count": 3,
   "id": "641b907f",
   "metadata": {},
   "outputs": [
    {
     "name": "stdout",
     "output_type": "stream",
     "text": [
      "<class 'pandas.core.frame.DataFrame'>\n",
      "Index: 3 entries, x to z\n",
      "Data columns (total 3 columns):\n",
      " #   Column  Non-Null Count  Dtype\n",
      "---  ------  --------------  -----\n",
      " 0   A       3 non-null      int64\n",
      " 1   B       3 non-null      int64\n",
      " 2   C       3 non-null      int64\n",
      "dtypes: int64(3)\n",
      "memory usage: 96.0+ bytes\n"
     ]
    },
    {
     "data": {
      "text/plain": [
       "array([1, 4, 7])"
      ]
     },
     "execution_count": 3,
     "metadata": {},
     "output_type": "execute_result"
    }
   ],
   "source": [
    "# Shows us the data frame\n",
    "df\n",
    "\n",
    "# Show us the column names in list print format\n",
    "df.columns\n",
    "# Shows the index (row) names or numbers in the same format as columns\n",
    "df.index\n",
    "\n",
    "# Shows us the first five rows by default\n",
    "# Can specify the amount of rows by putting an int in the ()'s\n",
    "df.head(3)\n",
    "\n",
    "# Shows the (row, col) count\n",
    "df.shape\n",
    "# Gives us some quick info about our df\n",
    "df.info()\n",
    "# Quick summary stats\n",
    "df.describe()\n",
    "\n",
    "# Find a value quickly, or some values from the df\n",
    "df['A'].unique()"
   ]
  },
  {
   "cell_type": "markdown",
   "id": "2c8b1bac",
   "metadata": {},
   "source": [
    "### Hangling Null Values"
   ]
  },
  {
   "cell_type": "code",
   "execution_count": 39,
   "id": "0c8eb680",
   "metadata": {},
   "outputs": [
    {
     "data": {
      "text/html": [
       "<div>\n",
       "<style scoped>\n",
       "    .dataframe tbody tr th:only-of-type {\n",
       "        vertical-align: middle;\n",
       "    }\n",
       "\n",
       "    .dataframe tbody tr th {\n",
       "        vertical-align: top;\n",
       "    }\n",
       "\n",
       "    .dataframe thead th {\n",
       "        text-align: right;\n",
       "    }\n",
       "</style>\n",
       "<table border=\"1\" class=\"dataframe\">\n",
       "  <thead>\n",
       "    <tr style=\"text-align: right;\">\n",
       "      <th></th>\n",
       "      <th>Day</th>\n",
       "      <th>Coffee Type</th>\n",
       "      <th>Units Sold</th>\n",
       "    </tr>\n",
       "  </thead>\n",
       "  <tbody>\n",
       "    <tr>\n",
       "      <th>0</th>\n",
       "      <td>Monday</td>\n",
       "      <td>Espresso</td>\n",
       "      <td>25.00</td>\n",
       "    </tr>\n",
       "    <tr>\n",
       "      <th>1</th>\n",
       "      <td>Monday</td>\n",
       "      <td>Latte</td>\n",
       "      <td>15.00</td>\n",
       "    </tr>\n",
       "    <tr>\n",
       "      <th>2</th>\n",
       "      <td>Tuesday</td>\n",
       "      <td>Espresso</td>\n",
       "      <td>30.00</td>\n",
       "    </tr>\n",
       "    <tr>\n",
       "      <th>3</th>\n",
       "      <td>Tuesday</td>\n",
       "      <td>Latte</td>\n",
       "      <td>33.75</td>\n",
       "    </tr>\n",
       "    <tr>\n",
       "      <th>4</th>\n",
       "      <td>Wednesday</td>\n",
       "      <td>Espresso</td>\n",
       "      <td>33.75</td>\n",
       "    </tr>\n",
       "  </tbody>\n",
       "</table>\n",
       "</div>"
      ],
      "text/plain": [
       "         Day Coffee Type  Units Sold\n",
       "0     Monday    Espresso       25.00\n",
       "1     Monday       Latte       15.00\n",
       "2    Tuesday    Espresso       30.00\n",
       "3    Tuesday       Latte       33.75\n",
       "4  Wednesday    Espresso       33.75"
      ]
     },
     "execution_count": 39,
     "metadata": {},
     "output_type": "execute_result"
    }
   ],
   "source": [
    "# Using the coffee df for this\n",
    "coffee = pd.read_csv('./data/coffee.csv')\n",
    "\n",
    "# Add in some NaN values to mess with (using numpy)\n",
    "coffee.loc[[3, 4], 'Units Sold'] = np.nan\n",
    "\n",
    "# Gives a nice number per column of null values\n",
    "coffee.isna().sum()\n",
    "\n",
    "# Looking for NaN rows\n",
    "coffee[coffee['Units Sold'].isna()]\n",
    "\n",
    "# Non NaN row\n",
    "coffee[coffee['Units Sold'].notna()]\n",
    "\n",
    "# Handling the NaN with just a mean value of the values we know\n",
    "coffee.fillna(coffee['Units Sold'].mean(), inplace=True)\n",
    "\n",
    "# Interpolate looks at your data to find paterns and make a best guess\n",
    "# coffee['Units Sold'].interpolate()\n",
    "\n",
    "# Could just drop the NaN records, not best practice\n",
    "# coffee = coffee.dropna(inplace=True)\n",
    "# Specifically for a column to look for na: coffee.dropna(subset=['Units Sold])\n",
    "\n",
    "\n",
    "coffee.head()"
   ]
  },
  {
   "cell_type": "markdown",
   "id": "d40c47c8",
   "metadata": {},
   "source": [
    "### Aggregate Data"
   ]
  },
  {
   "cell_type": "code",
   "execution_count": null,
   "id": "366abeac",
   "metadata": {},
   "outputs": [],
   "source": [
    "bios = "
   ]
  }
 ],
 "metadata": {
  "kernelspec": {
   "display_name": "myenv",
   "language": "python",
   "name": "python3"
  },
  "language_info": {
   "codemirror_mode": {
    "name": "ipython",
    "version": 3
   },
   "file_extension": ".py",
   "mimetype": "text/x-python",
   "name": "python",
   "nbconvert_exporter": "python",
   "pygments_lexer": "ipython3",
   "version": "3.10.12"
  }
 },
 "nbformat": 4,
 "nbformat_minor": 5
}
